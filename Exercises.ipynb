{
 "cells": [
  {
   "cell_type": "markdown",
   "metadata": {},
   "source": [
    "### Exercise 1"
   ]
  },
  {
   "cell_type": "markdown",
   "metadata": {},
   "source": [
    "Given an array of positive integers `nums`, return a list of all of the negative integers.<br>\n",
    "Ex. 1<br>\n",
    "nums = [1, 3, 5, 7, 8]<br>\n",
    "Expected Output: [-1, -3, -5, -7, -8]<br>\n",
    "\n",
    "Ex. 2<br>\n",
    "nums = [100, 534, 32, 15, 77, 222, 788, 345, 75645, 22]<br>\n",
    "Expected Output: [-100, -534, -32, -15, -77, -222, -788, -345, -75645, -22]<br>"
   ]
  },
  {
   "cell_type": "code",
   "execution_count": 1,
   "metadata": {},
   "outputs": [
    {
     "name": "stdout",
     "output_type": "stream",
     "text": [
      "[-1, -3, -5, -7, -8]\n",
      "[-100, -534, -32, -15, -77, -222, -788, -345, -75645, -22]\n"
     ]
    }
   ],
   "source": [
    "def negative_numbers(positive_numbers):\n",
    "    '''Take a list of positive numbers and return a list of each number being negative'''\n",
    "    negative_list=[]\n",
    "    for positive_number in positive_numbers:\n",
    "        negative_number = -positive_number\n",
    "        negative_list.append(negative_number)\n",
    "    return negative_list\n",
    "\n",
    "\n",
    "nums = [1, 3, 5, 7, 8]\n",
    "print(negative_numbers(nums))\n",
    "\n",
    "nums2 = [100, 534, 32, 15, 77, 222, 788, 345, 75645, 22]\n",
    "print(negative_numbers(nums2))\n",
    "    "
   ]
  },
  {
   "cell_type": "markdown",
   "metadata": {},
   "source": [
    "### Exercise 2"
   ]
  },
  {
   "cell_type": "markdown",
   "metadata": {},
   "source": [
    "Given a string, return a list of all of the digits in the string.<br>\n",
    "Ex. 1 <br>\n",
    "address = \"123 Real Street, Apt. 2, Springfield, OR 43498\"<br>\n",
    "Expected Output: ['1', '2', '3', '2', '4', '3', '4', '9', '8']<br>\n",
    "\n",
    "Ex. 2 <br>\n",
    "sentence = \"My phone number is (555) 555-4321\"<br>\n",
    "Expected Output: ['5', '5', '5', '5', '5', '5', '4', '3', '2', '1']<br>"
   ]
  },
  {
   "cell_type": "code",
   "execution_count": 6,
   "metadata": {},
   "outputs": [
    {
     "name": "stdout",
     "output_type": "stream",
     "text": [
      "['1', '2', '3', '2', '4', '3', '4', '9', '8']\n",
      "['5', '5', '5', '5', '5', '5', '4', '3', '2', '1']\n"
     ]
    }
   ],
   "source": [
    "# Hint: Look at the string methods! -- help(str)\n",
    "\n",
    "def digit_return(str):\n",
    "    \"\"\"return a list of all the digits in a string\"\"\"\n",
    "    digit_list = []\n",
    "    for char in str:\n",
    "        if char.isdigit() == True:\n",
    "            digit_list.append(char)\n",
    "    return digit_list\n",
    "\n",
    "address = \"123 Real Street, Apt. 2, Springfield, OR 43498\"\n",
    "sentence = \"My phone number is (555) 555-4321\"\n",
    "\n",
    "print(digit_return(address))\n",
    "print(digit_return(sentence))\n",
    "\n",
    "\n"
   ]
  },
  {
   "cell_type": "markdown",
   "metadata": {},
   "source": [
    "### Exercise 3"
   ]
  },
  {
   "cell_type": "markdown",
   "metadata": {},
   "source": [
    "Given a string `digits`, return a **string** of the digits + 1<br>\n",
    "\n",
    "Ex. 1<br>\n",
    "digits = '123'<br>\n",
    "Expected Output: '124'<br>\n",
    "\n",
    "Ex. 2<br>\n",
    "digits = '99'<br>\n",
    "Expected Output: '100'<br>"
   ]
  },
  {
   "cell_type": "code",
   "execution_count": 8,
   "metadata": {},
   "outputs": [
    {
     "name": "stdout",
     "output_type": "stream",
     "text": [
      "124\n",
      "<class 'str'>\n",
      "100\n",
      "<class 'str'>\n"
     ]
    }
   ],
   "source": [
    "def digits_plus1(string):\n",
    "    '''With a string of digits, return the string of digits + 1'''\n",
    "    return str(int(string)+1)\n",
    "\n",
    "digits = '123'\n",
    "digits2 = '99'\n",
    "\n",
    "print(digits_plus1(digits))\n",
    "print(type(digits_plus1(digits)))\n",
    "\n",
    "print(digits_plus1(digits2))\n",
    "print(type(digits_plus1(digits2)))"
   ]
  }
 ],
 "metadata": {
  "kernelspec": {
   "display_name": "Python 3",
   "language": "python",
   "name": "python3"
  },
  "language_info": {
   "codemirror_mode": {
    "name": "ipython",
    "version": 3
   },
   "file_extension": ".py",
   "mimetype": "text/x-python",
   "name": "python",
   "nbconvert_exporter": "python",
   "pygments_lexer": "ipython3",
   "version": "3.11.7"
  }
 },
 "nbformat": 4,
 "nbformat_minor": 4
}
